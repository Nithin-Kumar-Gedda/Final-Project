{
 "cells": [
  {
   "cell_type": "code",
   "execution_count": 1,
   "id": "2fd53668-80da-4771-94f6-2b6a6228eb0a",
   "metadata": {},
   "outputs": [],
   "source": [
    "import pandas as pd\n",
    "from sklearn.feature_extraction.text import TfidfVectorizer\n",
    "from sklearn.metrics.pairwise import cosine_similarity\n",
    "import warnings\n",
    "warnings.filterwarnings('ignore')"
   ]
  },
  {
   "cell_type": "code",
   "execution_count": 2,
   "id": "d598166d-1f40-417e-8fd8-a93dd1709fef",
   "metadata": {},
   "outputs": [],
   "source": [
    "datas=pd.read_csv('output.csv')"
   ]
  },
  {
   "cell_type": "code",
   "execution_count": 3,
   "id": "345032ef-4db4-4a28-9fb8-94fc202f8ce4",
   "metadata": {},
   "outputs": [
    {
     "data": {
      "text/html": [
       "<div>\n",
       "<style scoped>\n",
       "    .dataframe tbody tr th:only-of-type {\n",
       "        vertical-align: middle;\n",
       "    }\n",
       "\n",
       "    .dataframe tbody tr th {\n",
       "        vertical-align: top;\n",
       "    }\n",
       "\n",
       "    .dataframe thead th {\n",
       "        text-align: right;\n",
       "    }\n",
       "</style>\n",
       "<table border=\"1\" class=\"dataframe\">\n",
       "  <thead>\n",
       "    <tr style=\"text-align: right;\">\n",
       "      <th></th>\n",
       "      <th>adult</th>\n",
       "      <th>genres</th>\n",
       "      <th>movieId</th>\n",
       "      <th>original_language</th>\n",
       "      <th>original_title</th>\n",
       "      <th>overview</th>\n",
       "      <th>popularity</th>\n",
       "      <th>production_companies</th>\n",
       "      <th>production_countries</th>\n",
       "      <th>release_date</th>\n",
       "      <th>runtime</th>\n",
       "      <th>spoken_languages</th>\n",
       "      <th>tagline</th>\n",
       "      <th>title</th>\n",
       "      <th>cast</th>\n",
       "      <th>crew</th>\n",
       "      <th>keywords</th>\n",
       "    </tr>\n",
       "  </thead>\n",
       "  <tbody>\n",
       "    <tr>\n",
       "      <th>0</th>\n",
       "      <td>False</td>\n",
       "      <td>DramaRomance</td>\n",
       "      <td>79782</td>\n",
       "      <td>en</td>\n",
       "      <td>Wenecja</td>\n",
       "      <td>An atmospheric coming-of-age story featuring a...</td>\n",
       "      <td>0.147130</td>\n",
       "      <td>NaN</td>\n",
       "      <td>NaN</td>\n",
       "      <td>2010-05-25</td>\n",
       "      <td>110.0</td>\n",
       "      <td>plPolski</td>\n",
       "      <td>NaN</td>\n",
       "      <td>Venice</td>\n",
       "      <td>Marcin WalewskiMagdalena CieleckaMariusz Bonas...</td>\n",
       "      <td>Jan Jakub KolskiArtur ReinhartWitold Chominski...</td>\n",
       "      <td>English</td>\n",
       "    </tr>\n",
       "    <tr>\n",
       "      <th>1</th>\n",
       "      <td>False</td>\n",
       "      <td>ComedyHorror</td>\n",
       "      <td>141210</td>\n",
       "      <td>en</td>\n",
       "      <td>The Sleepover</td>\n",
       "      <td>The town of Derry has a secret, but no one tol...</td>\n",
       "      <td>0.135596</td>\n",
       "      <td>NaN</td>\n",
       "      <td>NaN</td>\n",
       "      <td>2013-10-12</td>\n",
       "      <td>6.0</td>\n",
       "      <td>English</td>\n",
       "      <td>NaN</td>\n",
       "      <td>The Sleepover</td>\n",
       "      <td>Josh FeldmanGus KampCarolyn JaniaKristine Blac...</td>\n",
       "      <td>Chris Cullari</td>\n",
       "      <td>English</td>\n",
       "    </tr>\n",
       "    <tr>\n",
       "      <th>2</th>\n",
       "      <td>False</td>\n",
       "      <td>Drama</td>\n",
       "      <td>143750</td>\n",
       "      <td>en</td>\n",
       "      <td>The Farmer's Wife</td>\n",
       "      <td>As her surroundings are invaded by outsiders, ...</td>\n",
       "      <td>0.211754</td>\n",
       "      <td>NaN</td>\n",
       "      <td>NaN</td>\n",
       "      <td>2012-06-20</td>\n",
       "      <td>18.0</td>\n",
       "      <td>enEnglish</td>\n",
       "      <td>NaN</td>\n",
       "      <td>The Farmer's Wife</td>\n",
       "      <td>James CartwrightGeraldine JamesAlex KellyMarti...</td>\n",
       "      <td>John ParishJonas GrimåsGary ShawFrancis LeeFra...</td>\n",
       "      <td>short</td>\n",
       "    </tr>\n",
       "    <tr>\n",
       "      <th>3</th>\n",
       "      <td>False</td>\n",
       "      <td>Documentary</td>\n",
       "      <td>84198</td>\n",
       "      <td>en</td>\n",
       "      <td>A Place at the Table</td>\n",
       "      <td>Using personal stories, this powerful document...</td>\n",
       "      <td>0.501046</td>\n",
       "      <td>NaN</td>\n",
       "      <td>USUnitedStatesofAmerica</td>\n",
       "      <td>2012-03-22</td>\n",
       "      <td>84.0</td>\n",
       "      <td>enEnglish</td>\n",
       "      <td>One Nation. Underfed.</td>\n",
       "      <td>A Place at the Table</td>\n",
       "      <td>Jeff BridgesTom ColicchioMariana ChiltonKen Co...</td>\n",
       "      <td>Kristi JacobsonLori Silverbush</td>\n",
       "      <td>woman director</td>\n",
       "    </tr>\n",
       "    <tr>\n",
       "      <th>4</th>\n",
       "      <td>False</td>\n",
       "      <td>Documentary</td>\n",
       "      <td>84198</td>\n",
       "      <td>en</td>\n",
       "      <td>A Place at the Table</td>\n",
       "      <td>Using personal stories, this powerful document...</td>\n",
       "      <td>0.501046</td>\n",
       "      <td>NaN</td>\n",
       "      <td>USUnitedStatesofAmerica</td>\n",
       "      <td>2012-03-22</td>\n",
       "      <td>84.0</td>\n",
       "      <td>enEnglish</td>\n",
       "      <td>One Nation. Underfed.</td>\n",
       "      <td>A Place at the Table</td>\n",
       "      <td>Jeff BridgesTom ColicchioMariana ChiltonKen Co...</td>\n",
       "      <td>Kristi JacobsonLori Silverbush</td>\n",
       "      <td>woman director</td>\n",
       "    </tr>\n",
       "  </tbody>\n",
       "</table>\n",
       "</div>"
      ],
      "text/plain": [
       "   adult        genres  movieId original_language        original_title  \\\n",
       "0  False  DramaRomance    79782                en               Wenecja   \n",
       "1  False  ComedyHorror   141210                en         The Sleepover   \n",
       "2  False         Drama   143750                en     The Farmer's Wife   \n",
       "3  False   Documentary    84198                en  A Place at the Table   \n",
       "4  False   Documentary    84198                en  A Place at the Table   \n",
       "\n",
       "                                            overview  popularity  \\\n",
       "0  An atmospheric coming-of-age story featuring a...    0.147130   \n",
       "1  The town of Derry has a secret, but no one tol...    0.135596   \n",
       "2  As her surroundings are invaded by outsiders, ...    0.211754   \n",
       "3  Using personal stories, this powerful document...    0.501046   \n",
       "4  Using personal stories, this powerful document...    0.501046   \n",
       "\n",
       "  production_companies     production_countries release_date  runtime  \\\n",
       "0                  NaN                      NaN   2010-05-25    110.0   \n",
       "1                  NaN                      NaN   2013-10-12      6.0   \n",
       "2                  NaN                      NaN   2012-06-20     18.0   \n",
       "3                  NaN  USUnitedStatesofAmerica   2012-03-22     84.0   \n",
       "4                  NaN  USUnitedStatesofAmerica   2012-03-22     84.0   \n",
       "\n",
       "  spoken_languages                tagline                 title  \\\n",
       "0         plPolski                    NaN                Venice   \n",
       "1          English                    NaN         The Sleepover   \n",
       "2        enEnglish                    NaN     The Farmer's Wife   \n",
       "3        enEnglish  One Nation. Underfed.  A Place at the Table   \n",
       "4        enEnglish  One Nation. Underfed.  A Place at the Table   \n",
       "\n",
       "                                                cast  \\\n",
       "0  Marcin WalewskiMagdalena CieleckaMariusz Bonas...   \n",
       "1  Josh FeldmanGus KampCarolyn JaniaKristine Blac...   \n",
       "2  James CartwrightGeraldine JamesAlex KellyMarti...   \n",
       "3  Jeff BridgesTom ColicchioMariana ChiltonKen Co...   \n",
       "4  Jeff BridgesTom ColicchioMariana ChiltonKen Co...   \n",
       "\n",
       "                                                crew        keywords  \n",
       "0  Jan Jakub KolskiArtur ReinhartWitold Chominski...         English  \n",
       "1                                      Chris Cullari         English  \n",
       "2  John ParishJonas GrimåsGary ShawFrancis LeeFra...           short  \n",
       "3                     Kristi JacobsonLori Silverbush  woman director  \n",
       "4                     Kristi JacobsonLori Silverbush  woman director  "
      ]
     },
     "execution_count": 3,
     "metadata": {},
     "output_type": "execute_result"
    }
   ],
   "source": [
    "datas.head(5)"
   ]
  },
  {
   "cell_type": "code",
   "execution_count": 4,
   "id": "992f25f4-cd96-4586-be4e-e9d29fe5ea41",
   "metadata": {},
   "outputs": [],
   "source": [
    "vectorizer = TfidfVectorizer()"
   ]
  },
  {
   "cell_type": "code",
   "execution_count": 5,
   "id": "d3a2c0a9-0fb7-4a38-80df-8bbb90322732",
   "metadata": {},
   "outputs": [],
   "source": [
    "# Replace NaN values with \"unknown\"\n",
    "datas['genres'].fillna(\"unknown\", inplace=True)"
   ]
  },
  {
   "cell_type": "code",
   "execution_count": 6,
   "id": "c8ef8dc5-b03f-4d5b-9695-dd27133f74a8",
   "metadata": {},
   "outputs": [],
   "source": [
    "feature_vectors_genres= vectorizer.fit_transform(datas['genres'])"
   ]
  },
  {
   "cell_type": "code",
   "execution_count": 7,
   "id": "f71e558e-ea73-4933-a0d0-00f31a230a8a",
   "metadata": {},
   "outputs": [
    {
     "data": {
      "text/plain": [
       "<22176x2486 sparse matrix of type '<class 'numpy.float64'>'\n",
       "\twith 22176 stored elements in Compressed Sparse Row format>"
      ]
     },
     "execution_count": 7,
     "metadata": {},
     "output_type": "execute_result"
    }
   ],
   "source": [
    "feature_vectors_genres"
   ]
  },
  {
   "cell_type": "code",
   "execution_count": 8,
   "id": "6bac5cda-069b-4c8d-83c2-1e867a812b46",
   "metadata": {},
   "outputs": [],
   "source": [
    "feature_vectors_overview= vectorizer.fit_transform(datas['overview'])"
   ]
  },
  {
   "cell_type": "code",
   "execution_count": 9,
   "id": "e2131dfa-f30e-4890-999e-cabe36d533dd",
   "metadata": {},
   "outputs": [
    {
     "data": {
      "text/plain": [
       "<22176x52357 sparse matrix of type '<class 'numpy.float64'>'\n",
       "\twith 945355 stored elements in Compressed Sparse Row format>"
      ]
     },
     "execution_count": 9,
     "metadata": {},
     "output_type": "execute_result"
    }
   ],
   "source": [
    "feature_vectors_overview"
   ]
  },
  {
   "cell_type": "code",
   "execution_count": 10,
   "id": "aa082fcc-87a5-488b-a10c-d36038cfadf1",
   "metadata": {},
   "outputs": [],
   "source": [
    "feature_vectors_language= vectorizer.fit_transform(datas['spoken_languages'])"
   ]
  },
  {
   "cell_type": "code",
   "execution_count": 11,
   "id": "556e8619-61ae-4e40-8c4e-d88eb7ca0c26",
   "metadata": {},
   "outputs": [
    {
     "data": {
      "text/plain": [
       "<22176x1378 sparse matrix of type '<class 'numpy.float64'>'\n",
       "\twith 22176 stored elements in Compressed Sparse Row format>"
      ]
     },
     "execution_count": 11,
     "metadata": {},
     "output_type": "execute_result"
    }
   ],
   "source": [
    "feature_vectors_language"
   ]
  },
  {
   "cell_type": "code",
   "execution_count": 12,
   "id": "a4246e53-0099-46db-b96e-65bd04170191",
   "metadata": {},
   "outputs": [],
   "source": [
    "# Replace NaN values with \"unknown\"\n",
    "datas['cast'].fillna(\"unknown\", inplace=True)"
   ]
  },
  {
   "cell_type": "code",
   "execution_count": 13,
   "id": "7cff3781-a1f2-4752-be13-08191a552f2b",
   "metadata": {},
   "outputs": [],
   "source": [
    "feature_vectors_cast= vectorizer.fit_transform(datas['cast'])"
   ]
  },
  {
   "cell_type": "code",
   "execution_count": 14,
   "id": "f7488950-dcc0-426e-9bfa-9be238d48450",
   "metadata": {},
   "outputs": [
    {
     "data": {
      "text/plain": [
       "<22176x241425 sparse matrix of type '<class 'numpy.float64'>'\n",
       "\twith 312352 stored elements in Compressed Sparse Row format>"
      ]
     },
     "execution_count": 14,
     "metadata": {},
     "output_type": "execute_result"
    }
   ],
   "source": [
    "feature_vectors_cast"
   ]
  },
  {
   "cell_type": "code",
   "execution_count": 15,
   "id": "4fe19ac0-ac85-43c2-8f3c-5c98dc659483",
   "metadata": {},
   "outputs": [],
   "source": [
    "datas['crew'].fillna(\"unknown\", inplace=True)"
   ]
  },
  {
   "cell_type": "code",
   "execution_count": 16,
   "id": "ff0fcace-b167-4776-b891-c4b5ffe5405f",
   "metadata": {},
   "outputs": [],
   "source": [
    "feature_vectors_crew= vectorizer.fit_transform(datas['crew'])"
   ]
  },
  {
   "cell_type": "code",
   "execution_count": 17,
   "id": "583cdf2a-ee0e-48d1-9aaa-2380f30624e3",
   "metadata": {},
   "outputs": [
    {
     "data": {
      "text/plain": [
       "<22176x212057 sparse matrix of type '<class 'numpy.float64'>'\n",
       "\twith 288511 stored elements in Compressed Sparse Row format>"
      ]
     },
     "execution_count": 17,
     "metadata": {},
     "output_type": "execute_result"
    }
   ],
   "source": [
    "feature_vectors_crew"
   ]
  },
  {
   "cell_type": "code",
   "execution_count": 18,
   "id": "0d45c069-fa7d-4794-9ef2-9bfe14f12efd",
   "metadata": {},
   "outputs": [],
   "source": [
    "similarity_genres = cosine_similarity(feature_vectors_genres)"
   ]
  },
  {
   "cell_type": "code",
   "execution_count": 23,
   "id": "f83dec4b-0965-486f-b69d-86225d181f9a",
   "metadata": {},
   "outputs": [
    {
     "data": {
      "text/plain": [
       "array([[1., 0., 0., ..., 0., 0., 0.],\n",
       "       [0., 1., 0., ..., 0., 0., 0.],\n",
       "       [0., 0., 1., ..., 1., 0., 0.],\n",
       "       ...,\n",
       "       [0., 0., 1., ..., 1., 0., 0.],\n",
       "       [0., 0., 0., ..., 0., 1., 0.],\n",
       "       [0., 0., 0., ..., 0., 0., 1.]])"
      ]
     },
     "execution_count": 23,
     "metadata": {},
     "output_type": "execute_result"
    }
   ],
   "source": [
    "similarity_genres "
   ]
  },
  {
   "cell_type": "code",
   "execution_count": 19,
   "id": "bc8e6192-3f2a-4f41-bac3-63aac0ad3732",
   "metadata": {},
   "outputs": [],
   "source": [
    "similarity_overview = cosine_similarity(feature_vectors_overview)"
   ]
  },
  {
   "cell_type": "code",
   "execution_count": 20,
   "id": "d3a0b9ad-f263-4a7a-b0cd-d54a3a1b49d8",
   "metadata": {},
   "outputs": [],
   "source": [
    "similarity_language = cosine_similarity(feature_vectors_language)"
   ]
  },
  {
   "cell_type": "code",
   "execution_count": 21,
   "id": "a06fd78b-c416-49c2-8b11-b6ac455a7b23",
   "metadata": {},
   "outputs": [],
   "source": [
    "similarity_cast = cosine_similarity(feature_vectors_cast)"
   ]
  },
  {
   "cell_type": "code",
   "execution_count": 22,
   "id": "9e6f78ab-21a7-415f-8852-2b62758da24f",
   "metadata": {},
   "outputs": [],
   "source": [
    "similarity_crew = cosine_similarity(feature_vectors_crew)"
   ]
  },
  {
   "cell_type": "code",
   "execution_count": 23,
   "id": "9f62da3f-0baf-4c93-a0d8-85c26f867e3c",
   "metadata": {},
   "outputs": [],
   "source": [
    "feature_vectors_keywords= vectorizer.fit_transform(datas['keywords'])"
   ]
  },
  {
   "cell_type": "code",
   "execution_count": 24,
   "id": "e15bd6c8-45c7-4013-82e7-5cd7162f6e45",
   "metadata": {},
   "outputs": [
    {
     "data": {
      "text/plain": [
       "<22176x27681 sparse matrix of type '<class 'numpy.float64'>'\n",
       "\twith 57199 stored elements in Compressed Sparse Row format>"
      ]
     },
     "execution_count": 24,
     "metadata": {},
     "output_type": "execute_result"
    }
   ],
   "source": [
    "feature_vectors_keywords"
   ]
  },
  {
   "cell_type": "code",
   "execution_count": 36,
   "id": "a24f7029-f5ce-423c-af68-8c03947d971a",
   "metadata": {},
   "outputs": [
    {
     "data": {
      "text/plain": [
       "'similarity_keywords = cosine_similarity(feature_vectors_keywords)'"
      ]
     },
     "execution_count": 36,
     "metadata": {},
     "output_type": "execute_result"
    }
   ],
   "source": [
    "'''similarity_keywords = cosine_similarity(feature_vectors_keywords)'''"
   ]
  },
  {
   "cell_type": "code",
   "execution_count": 39,
   "id": "2239ab4a-a202-4eba-95fe-6cd2fb5e2b2a",
   "metadata": {},
   "outputs": [
    {
     "name": "stdout",
     "output_type": "stream",
     "text": [
      "Stored 'similarity_crew' (ndarray)\n"
     ]
    }
   ],
   "source": [
    "%store similarity_crew"
   ]
  },
  {
   "cell_type": "code",
   "execution_count": 40,
   "id": "304d7672-b9ee-4ff2-a914-af9f1715f3be",
   "metadata": {},
   "outputs": [
    {
     "name": "stdout",
     "output_type": "stream",
     "text": [
      "Stored 'similarity_cast' (ndarray)\n"
     ]
    }
   ],
   "source": [
    "%store similarity_cast"
   ]
  },
  {
   "cell_type": "code",
   "execution_count": 41,
   "id": "ccd59c9d-3e85-4cf3-8916-ff3a5e42cfeb",
   "metadata": {},
   "outputs": [
    {
     "name": "stdout",
     "output_type": "stream",
     "text": [
      "Stored 'similarity_language' (ndarray)\n"
     ]
    }
   ],
   "source": [
    "%store similarity_language"
   ]
  },
  {
   "cell_type": "code",
   "execution_count": 42,
   "id": "7a12bb6e-eedf-42c7-bae1-f7a83ef2f57f",
   "metadata": {},
   "outputs": [
    {
     "name": "stdout",
     "output_type": "stream",
     "text": [
      "Stored 'similarity_overview' (ndarray)\n"
     ]
    }
   ],
   "source": [
    "%store similarity_overview"
   ]
  },
  {
   "cell_type": "code",
   "execution_count": 43,
   "id": "2dc372af-0e25-4f08-9f19-200f3c996664",
   "metadata": {},
   "outputs": [
    {
     "name": "stdout",
     "output_type": "stream",
     "text": [
      "Stored 'similarity_genres' (ndarray)\n"
     ]
    }
   ],
   "source": [
    "%store similarity_genres"
   ]
  },
  {
   "cell_type": "code",
   "execution_count": null,
   "id": "8c8409d4-5d86-4186-a1e4-3b4b53fe5a18",
   "metadata": {},
   "outputs": [],
   "source": []
  }
 ],
 "metadata": {
  "kernelspec": {
   "display_name": "Python 3 (ipykernel)",
   "language": "python",
   "name": "python3"
  },
  "language_info": {
   "codemirror_mode": {
    "name": "ipython",
    "version": 3
   },
   "file_extension": ".py",
   "mimetype": "text/x-python",
   "name": "python",
   "nbconvert_exporter": "python",
   "pygments_lexer": "ipython3",
   "version": "3.10.10"
  }
 },
 "nbformat": 4,
 "nbformat_minor": 5
}
